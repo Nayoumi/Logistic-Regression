{
  "nbformat": 4,
  "nbformat_minor": 0,
  "metadata": {
    "colab": {
      "provenance": []
    },
    "kernelspec": {
      "name": "python3",
      "display_name": "Python 3"
    },
    "language_info": {
      "name": "python"
    }
  },
  "cells": [
    {
      "cell_type": "markdown",
      "source": [
        "**Logistic Regression:** Logistic regression is a supervised learning where input or independent variables and output or dependent variables should be present in the dataset.\n",
        "\n",
        "1. In Logistic regression the target variable should consists of categorical values or binary values.\n",
        "2. If target has binary classes than it is a binomial Logistic regression.\n",
        "3. If target has multiclass or more than one class than it is a  multinomial Logistic regression.\n",
        "4. if target has ordinal values or ordered classes (low,medium,high) than it is ordinal logistic regression.\n",
        "5. Logistic regression is used to solve the classification problem.\n",
        "6. In Logistic regression as we make probabilities based prediction, 'S' shape curve is fitted with a threshold value between the range of the 0 or 1\n",
        "7. In linear regression we try to fit a best line, but in logistic regression we try to fit a 'S' shaped curve with a threshold value. We call it as sigmoid function or a logistic function\n",
        "\n",
        "                y' = 1/(1+e^-z)\n",
        "                z=b0+b1*x1+....bn*xn\n"
      ],
      "metadata": {
        "id": "lIzsyh0EcQHx"
      }
    },
    {
      "cell_type": "code",
      "execution_count": null,
      "metadata": {
        "id": "nub4o2urcM_7"
      },
      "outputs": [],
      "source": [
        "import pandas as pd\n",
        "import numpy as np\n",
        "import seaborn as sns\n",
        "import matplotlib.pyplot as plt\n",
        "from sklearn.preprocessing import StandardScaler,LabelEncoder\n",
        "from sklearn.model_selection import train_test_split\n",
        "from sklearn.linear_model import LogisticRegression\n",
        "from sklearn.metrics import confusion_matrix, classification_report"
      ]
    },
    {
      "cell_type": "code",
      "source": [
        "Log_dataset= pd.read_csv(\"/content/framingham.csv\")"
      ],
      "metadata": {
        "id": "W4HjUkz3gcZt"
      },
      "execution_count": null,
      "outputs": []
    },
    {
      "cell_type": "code",
      "source": [
        "Log_dataset.head()"
      ],
      "metadata": {
        "colab": {
          "base_uri": "https://localhost:8080/",
          "height": 250
        },
        "id": "IoJHaZAPghYa",
        "outputId": "6f7dcb8a-4c31-4d51-84f6-6616815377e0"
      },
      "execution_count": null,
      "outputs": [
        {
          "output_type": "execute_result",
          "data": {
            "text/plain": [
              "   male  age  education  currentSmoker  cigsPerDay  BPMeds  prevalentStroke  \\\n",
              "0     1   39        4.0              0         0.0     0.0                0   \n",
              "1     0   46        2.0              0         0.0     0.0                0   \n",
              "2     1   48        1.0              1        20.0     0.0                0   \n",
              "3     0   61        3.0              1        30.0     0.0                0   \n",
              "4     0   46        3.0              1        23.0     0.0                0   \n",
              "\n",
              "   prevalentHyp  diabetes  totChol  sysBP  diaBP    BMI  heartRate  glucose  \\\n",
              "0             0         0    195.0  106.0   70.0  26.97       80.0     77.0   \n",
              "1             0         0    250.0  121.0   81.0  28.73       95.0     76.0   \n",
              "2             0         0    245.0  127.5   80.0  25.34       75.0     70.0   \n",
              "3             1         0    225.0  150.0   95.0  28.58       65.0    103.0   \n",
              "4             0         0    285.0  130.0   84.0  23.10       85.0     85.0   \n",
              "\n",
              "   TenYearCHD  \n",
              "0           0  \n",
              "1           0  \n",
              "2           0  \n",
              "3           1  \n",
              "4           0  "
            ],
            "text/html": [
              "\n",
              "\n",
              "  <div id=\"df-e0aaa948-8b0c-4b02-9f55-50473c86967d\">\n",
              "    <div class=\"colab-df-container\">\n",
              "      <div>\n",
              "<style scoped>\n",
              "    .dataframe tbody tr th:only-of-type {\n",
              "        vertical-align: middle;\n",
              "    }\n",
              "\n",
              "    .dataframe tbody tr th {\n",
              "        vertical-align: top;\n",
              "    }\n",
              "\n",
              "    .dataframe thead th {\n",
              "        text-align: right;\n",
              "    }\n",
              "</style>\n",
              "<table border=\"1\" class=\"dataframe\">\n",
              "  <thead>\n",
              "    <tr style=\"text-align: right;\">\n",
              "      <th></th>\n",
              "      <th>male</th>\n",
              "      <th>age</th>\n",
              "      <th>education</th>\n",
              "      <th>currentSmoker</th>\n",
              "      <th>cigsPerDay</th>\n",
              "      <th>BPMeds</th>\n",
              "      <th>prevalentStroke</th>\n",
              "      <th>prevalentHyp</th>\n",
              "      <th>diabetes</th>\n",
              "      <th>totChol</th>\n",
              "      <th>sysBP</th>\n",
              "      <th>diaBP</th>\n",
              "      <th>BMI</th>\n",
              "      <th>heartRate</th>\n",
              "      <th>glucose</th>\n",
              "      <th>TenYearCHD</th>\n",
              "    </tr>\n",
              "  </thead>\n",
              "  <tbody>\n",
              "    <tr>\n",
              "      <th>0</th>\n",
              "      <td>1</td>\n",
              "      <td>39</td>\n",
              "      <td>4.0</td>\n",
              "      <td>0</td>\n",
              "      <td>0.0</td>\n",
              "      <td>0.0</td>\n",
              "      <td>0</td>\n",
              "      <td>0</td>\n",
              "      <td>0</td>\n",
              "      <td>195.0</td>\n",
              "      <td>106.0</td>\n",
              "      <td>70.0</td>\n",
              "      <td>26.97</td>\n",
              "      <td>80.0</td>\n",
              "      <td>77.0</td>\n",
              "      <td>0</td>\n",
              "    </tr>\n",
              "    <tr>\n",
              "      <th>1</th>\n",
              "      <td>0</td>\n",
              "      <td>46</td>\n",
              "      <td>2.0</td>\n",
              "      <td>0</td>\n",
              "      <td>0.0</td>\n",
              "      <td>0.0</td>\n",
              "      <td>0</td>\n",
              "      <td>0</td>\n",
              "      <td>0</td>\n",
              "      <td>250.0</td>\n",
              "      <td>121.0</td>\n",
              "      <td>81.0</td>\n",
              "      <td>28.73</td>\n",
              "      <td>95.0</td>\n",
              "      <td>76.0</td>\n",
              "      <td>0</td>\n",
              "    </tr>\n",
              "    <tr>\n",
              "      <th>2</th>\n",
              "      <td>1</td>\n",
              "      <td>48</td>\n",
              "      <td>1.0</td>\n",
              "      <td>1</td>\n",
              "      <td>20.0</td>\n",
              "      <td>0.0</td>\n",
              "      <td>0</td>\n",
              "      <td>0</td>\n",
              "      <td>0</td>\n",
              "      <td>245.0</td>\n",
              "      <td>127.5</td>\n",
              "      <td>80.0</td>\n",
              "      <td>25.34</td>\n",
              "      <td>75.0</td>\n",
              "      <td>70.0</td>\n",
              "      <td>0</td>\n",
              "    </tr>\n",
              "    <tr>\n",
              "      <th>3</th>\n",
              "      <td>0</td>\n",
              "      <td>61</td>\n",
              "      <td>3.0</td>\n",
              "      <td>1</td>\n",
              "      <td>30.0</td>\n",
              "      <td>0.0</td>\n",
              "      <td>0</td>\n",
              "      <td>1</td>\n",
              "      <td>0</td>\n",
              "      <td>225.0</td>\n",
              "      <td>150.0</td>\n",
              "      <td>95.0</td>\n",
              "      <td>28.58</td>\n",
              "      <td>65.0</td>\n",
              "      <td>103.0</td>\n",
              "      <td>1</td>\n",
              "    </tr>\n",
              "    <tr>\n",
              "      <th>4</th>\n",
              "      <td>0</td>\n",
              "      <td>46</td>\n",
              "      <td>3.0</td>\n",
              "      <td>1</td>\n",
              "      <td>23.0</td>\n",
              "      <td>0.0</td>\n",
              "      <td>0</td>\n",
              "      <td>0</td>\n",
              "      <td>0</td>\n",
              "      <td>285.0</td>\n",
              "      <td>130.0</td>\n",
              "      <td>84.0</td>\n",
              "      <td>23.10</td>\n",
              "      <td>85.0</td>\n",
              "      <td>85.0</td>\n",
              "      <td>0</td>\n",
              "    </tr>\n",
              "  </tbody>\n",
              "</table>\n",
              "</div>\n",
              "      <button class=\"colab-df-convert\" onclick=\"convertToInteractive('df-e0aaa948-8b0c-4b02-9f55-50473c86967d')\"\n",
              "              title=\"Convert this dataframe to an interactive table.\"\n",
              "              style=\"display:none;\">\n",
              "\n",
              "  <svg xmlns=\"http://www.w3.org/2000/svg\" height=\"24px\"viewBox=\"0 0 24 24\"\n",
              "       width=\"24px\">\n",
              "    <path d=\"M0 0h24v24H0V0z\" fill=\"none\"/>\n",
              "    <path d=\"M18.56 5.44l.94 2.06.94-2.06 2.06-.94-2.06-.94-.94-2.06-.94 2.06-2.06.94zm-11 1L8.5 8.5l.94-2.06 2.06-.94-2.06-.94L8.5 2.5l-.94 2.06-2.06.94zm10 10l.94 2.06.94-2.06 2.06-.94-2.06-.94-.94-2.06-.94 2.06-2.06.94z\"/><path d=\"M17.41 7.96l-1.37-1.37c-.4-.4-.92-.59-1.43-.59-.52 0-1.04.2-1.43.59L10.3 9.45l-7.72 7.72c-.78.78-.78 2.05 0 2.83L4 21.41c.39.39.9.59 1.41.59.51 0 1.02-.2 1.41-.59l7.78-7.78 2.81-2.81c.8-.78.8-2.07 0-2.86zM5.41 20L4 18.59l7.72-7.72 1.47 1.35L5.41 20z\"/>\n",
              "  </svg>\n",
              "      </button>\n",
              "\n",
              "\n",
              "\n",
              "    <div id=\"df-55a8d9c6-e9ad-42ee-8823-3a6e3f687332\">\n",
              "      <button class=\"colab-df-quickchart\" onclick=\"quickchart('df-55a8d9c6-e9ad-42ee-8823-3a6e3f687332')\"\n",
              "              title=\"Suggest charts.\"\n",
              "              style=\"display:none;\">\n",
              "\n",
              "<svg xmlns=\"http://www.w3.org/2000/svg\" height=\"24px\"viewBox=\"0 0 24 24\"\n",
              "     width=\"24px\">\n",
              "    <g>\n",
              "        <path d=\"M19 3H5c-1.1 0-2 .9-2 2v14c0 1.1.9 2 2 2h14c1.1 0 2-.9 2-2V5c0-1.1-.9-2-2-2zM9 17H7v-7h2v7zm4 0h-2V7h2v10zm4 0h-2v-4h2v4z\"/>\n",
              "    </g>\n",
              "</svg>\n",
              "      </button>\n",
              "    </div>\n",
              "\n",
              "<style>\n",
              "  .colab-df-quickchart {\n",
              "    background-color: #E8F0FE;\n",
              "    border: none;\n",
              "    border-radius: 50%;\n",
              "    cursor: pointer;\n",
              "    display: none;\n",
              "    fill: #1967D2;\n",
              "    height: 32px;\n",
              "    padding: 0 0 0 0;\n",
              "    width: 32px;\n",
              "  }\n",
              "\n",
              "  .colab-df-quickchart:hover {\n",
              "    background-color: #E2EBFA;\n",
              "    box-shadow: 0px 1px 2px rgba(60, 64, 67, 0.3), 0px 1px 3px 1px rgba(60, 64, 67, 0.15);\n",
              "    fill: #174EA6;\n",
              "  }\n",
              "\n",
              "  [theme=dark] .colab-df-quickchart {\n",
              "    background-color: #3B4455;\n",
              "    fill: #D2E3FC;\n",
              "  }\n",
              "\n",
              "  [theme=dark] .colab-df-quickchart:hover {\n",
              "    background-color: #434B5C;\n",
              "    box-shadow: 0px 1px 3px 1px rgba(0, 0, 0, 0.15);\n",
              "    filter: drop-shadow(0px 1px 2px rgba(0, 0, 0, 0.3));\n",
              "    fill: #FFFFFF;\n",
              "  }\n",
              "</style>\n",
              "\n",
              "    <script>\n",
              "      async function quickchart(key) {\n",
              "        const containerElement = document.querySelector('#' + key);\n",
              "        const charts = await google.colab.kernel.invokeFunction(\n",
              "            'suggestCharts', [key], {});\n",
              "      }\n",
              "    </script>\n",
              "\n",
              "      <script>\n",
              "\n",
              "function displayQuickchartButton(domScope) {\n",
              "  let quickchartButtonEl =\n",
              "    domScope.querySelector('#df-55a8d9c6-e9ad-42ee-8823-3a6e3f687332 button.colab-df-quickchart');\n",
              "  quickchartButtonEl.style.display =\n",
              "    google.colab.kernel.accessAllowed ? 'block' : 'none';\n",
              "}\n",
              "\n",
              "        displayQuickchartButton(document);\n",
              "      </script>\n",
              "      <style>\n",
              "    .colab-df-container {\n",
              "      display:flex;\n",
              "      flex-wrap:wrap;\n",
              "      gap: 12px;\n",
              "    }\n",
              "\n",
              "    .colab-df-convert {\n",
              "      background-color: #E8F0FE;\n",
              "      border: none;\n",
              "      border-radius: 50%;\n",
              "      cursor: pointer;\n",
              "      display: none;\n",
              "      fill: #1967D2;\n",
              "      height: 32px;\n",
              "      padding: 0 0 0 0;\n",
              "      width: 32px;\n",
              "    }\n",
              "\n",
              "    .colab-df-convert:hover {\n",
              "      background-color: #E2EBFA;\n",
              "      box-shadow: 0px 1px 2px rgba(60, 64, 67, 0.3), 0px 1px 3px 1px rgba(60, 64, 67, 0.15);\n",
              "      fill: #174EA6;\n",
              "    }\n",
              "\n",
              "    [theme=dark] .colab-df-convert {\n",
              "      background-color: #3B4455;\n",
              "      fill: #D2E3FC;\n",
              "    }\n",
              "\n",
              "    [theme=dark] .colab-df-convert:hover {\n",
              "      background-color: #434B5C;\n",
              "      box-shadow: 0px 1px 3px 1px rgba(0, 0, 0, 0.15);\n",
              "      filter: drop-shadow(0px 1px 2px rgba(0, 0, 0, 0.3));\n",
              "      fill: #FFFFFF;\n",
              "    }\n",
              "  </style>\n",
              "\n",
              "      <script>\n",
              "        const buttonEl =\n",
              "          document.querySelector('#df-e0aaa948-8b0c-4b02-9f55-50473c86967d button.colab-df-convert');\n",
              "        buttonEl.style.display =\n",
              "          google.colab.kernel.accessAllowed ? 'block' : 'none';\n",
              "\n",
              "        async function convertToInteractive(key) {\n",
              "          const element = document.querySelector('#df-e0aaa948-8b0c-4b02-9f55-50473c86967d');\n",
              "          const dataTable =\n",
              "            await google.colab.kernel.invokeFunction('convertToInteractive',\n",
              "                                                     [key], {});\n",
              "          if (!dataTable) return;\n",
              "\n",
              "          const docLinkHtml = 'Like what you see? Visit the ' +\n",
              "            '<a target=\"_blank\" href=https://colab.research.google.com/notebooks/data_table.ipynb>data table notebook</a>'\n",
              "            + ' to learn more about interactive tables.';\n",
              "          element.innerHTML = '';\n",
              "          dataTable['output_type'] = 'display_data';\n",
              "          await google.colab.output.renderOutput(dataTable, element);\n",
              "          const docLink = document.createElement('div');\n",
              "          docLink.innerHTML = docLinkHtml;\n",
              "          element.appendChild(docLink);\n",
              "        }\n",
              "      </script>\n",
              "    </div>\n",
              "  </div>\n"
            ]
          },
          "metadata": {},
          "execution_count": 121
        }
      ]
    },
    {
      "cell_type": "code",
      "source": [
        "Log_dataset.shape"
      ],
      "metadata": {
        "colab": {
          "base_uri": "https://localhost:8080/"
        },
        "id": "ODTNrjzfjp39",
        "outputId": "c784a876-b95d-4746-f585-4c60b5e585b2"
      },
      "execution_count": null,
      "outputs": [
        {
          "output_type": "execute_result",
          "data": {
            "text/plain": [
              "(4238, 16)"
            ]
          },
          "metadata": {},
          "execution_count": 122
        }
      ]
    },
    {
      "cell_type": "markdown",
      "source": [
        "**input/independent variables-** ['male', 'age', 'education', 'currentSmoker', 'cigsPerDay', 'BPMeds','prevalentStroke', 'prevalentHyp', 'diabetes', 'totChol', 'sysBP','diaBP', 'BMI', 'heartRate', 'glucose']\n",
        "\n",
        "**output/dependent variable-** ['TenYearCHD']"
      ],
      "metadata": {
        "id": "MO2-YreQjOlT"
      }
    },
    {
      "cell_type": "code",
      "source": [
        "Log_dataset.corr()"
      ],
      "metadata": {
        "colab": {
          "base_uri": "https://localhost:8080/",
          "height": 615
        },
        "id": "HBSyl9vGgjI7",
        "outputId": "6e88e168-13d7-4c2a-ff33-c2ff2162735f"
      },
      "execution_count": null,
      "outputs": [
        {
          "output_type": "execute_result",
          "data": {
            "text/plain": [
              "                     male       age  education  currentSmoker  cigsPerDay  \\\n",
              "male             1.000000 -0.028979   0.017352       0.197596    0.317930   \n",
              "age             -0.028979  1.000000  -0.165883      -0.213748   -0.192791   \n",
              "education        0.017352 -0.165883   1.000000       0.018532    0.008085   \n",
              "currentSmoker    0.197596 -0.213748   0.018532       1.000000    0.769690   \n",
              "cigsPerDay       0.317930 -0.192791   0.008085       0.769690    1.000000   \n",
              "BPMeds          -0.052506  0.122995  -0.010815      -0.048938   -0.046134   \n",
              "prevalentStroke -0.004546  0.057655  -0.035112      -0.032988   -0.032707   \n",
              "prevalentHyp     0.005313  0.307194  -0.081970      -0.103260   -0.066146   \n",
              "diabetes         0.015708  0.101258  -0.038680      -0.044295   -0.037067   \n",
              "totChol         -0.070322  0.262131  -0.023115      -0.046562   -0.026320   \n",
              "sysBP           -0.035989  0.394302  -0.129631      -0.130230   -0.088780   \n",
              "diaBP            0.057933  0.206104  -0.062316      -0.107746   -0.056632   \n",
              "BMI              0.081672  0.135800  -0.137504      -0.167650   -0.092856   \n",
              "heartRate       -0.116620 -0.012823  -0.054206       0.062356    0.075157   \n",
              "glucose          0.006083  0.122256  -0.035721      -0.056826   -0.058960   \n",
              "TenYearCHD       0.088428  0.225256  -0.054059       0.019456    0.057884   \n",
              "\n",
              "                   BPMeds  prevalentStroke  prevalentHyp  diabetes   totChol  \\\n",
              "male            -0.052506        -0.004546      0.005313  0.015708 -0.070322   \n",
              "age              0.122995         0.057655      0.307194  0.101258  0.262131   \n",
              "education       -0.010815        -0.035112     -0.081970 -0.038680 -0.023115   \n",
              "currentSmoker   -0.048938        -0.032988     -0.103260 -0.044295 -0.046562   \n",
              "cigsPerDay      -0.046134        -0.032707     -0.066146 -0.037067 -0.026320   \n",
              "BPMeds           1.000000         0.117365      0.261187  0.052047  0.080558   \n",
              "prevalentStroke  0.117365         1.000000      0.074830  0.006949  0.000067   \n",
              "prevalentHyp     0.261187         0.074830      1.000000  0.077808  0.163993   \n",
              "diabetes         0.052047         0.006949      0.077808  1.000000  0.040278   \n",
              "totChol          0.080558         0.000067      0.163993  0.040278  1.000000   \n",
              "sysBP            0.254219         0.057009      0.696755  0.111283  0.208908   \n",
              "diaBP            0.194227         0.045190      0.615751  0.050329  0.165182   \n",
              "BMI              0.100668         0.025891      0.301318  0.087036  0.115767   \n",
              "heartRate        0.015233        -0.017676      0.147261  0.048994  0.091125   \n",
              "glucose          0.051176         0.018431      0.086834  0.617627  0.046408   \n",
              "TenYearCHD       0.087489         0.061810      0.177603  0.097317  0.082184   \n",
              "\n",
              "                    sysBP     diaBP       BMI  heartRate   glucose  TenYearCHD  \n",
              "male            -0.035989  0.057933  0.081672  -0.116620  0.006083    0.088428  \n",
              "age              0.394302  0.206104  0.135800  -0.012823  0.122256    0.225256  \n",
              "education       -0.129631 -0.062316 -0.137504  -0.054206 -0.035721   -0.054059  \n",
              "currentSmoker   -0.130230 -0.107746 -0.167650   0.062356 -0.056826    0.019456  \n",
              "cigsPerDay      -0.088780 -0.056632 -0.092856   0.075157 -0.058960    0.057884  \n",
              "BPMeds           0.254219  0.194227  0.100668   0.015233  0.051176    0.087489  \n",
              "prevalentStroke  0.057009  0.045190  0.025891  -0.017676  0.018431    0.061810  \n",
              "prevalentHyp     0.696755  0.615751  0.301318   0.147261  0.086834    0.177603  \n",
              "diabetes         0.111283  0.050329  0.087036   0.048994  0.617627    0.097317  \n",
              "totChol          0.208908  0.165182  0.115767   0.091125  0.046408    0.082184  \n",
              "sysBP            1.000000  0.784002  0.326981   0.182246  0.140621    0.216429  \n",
              "diaBP            0.784002  1.000000  0.377588   0.181255  0.061231    0.145299  \n",
              "BMI              0.326981  0.377588  1.000000   0.067678  0.087377    0.075192  \n",
              "heartRate        0.182246  0.181255  0.067678   1.000000  0.094500    0.022913  \n",
              "glucose          0.140621  0.061231  0.087377   0.094500  1.000000    0.125544  \n",
              "TenYearCHD       0.216429  0.145299  0.075192   0.022913  0.125544    1.000000  "
            ],
            "text/html": [
              "\n",
              "\n",
              "  <div id=\"df-a45e1b81-a7e3-41fd-ba53-ad67e6229c5b\">\n",
              "    <div class=\"colab-df-container\">\n",
              "      <div>\n",
              "<style scoped>\n",
              "    .dataframe tbody tr th:only-of-type {\n",
              "        vertical-align: middle;\n",
              "    }\n",
              "\n",
              "    .dataframe tbody tr th {\n",
              "        vertical-align: top;\n",
              "    }\n",
              "\n",
              "    .dataframe thead th {\n",
              "        text-align: right;\n",
              "    }\n",
              "</style>\n",
              "<table border=\"1\" class=\"dataframe\">\n",
              "  <thead>\n",
              "    <tr style=\"text-align: right;\">\n",
              "      <th></th>\n",
              "      <th>male</th>\n",
              "      <th>age</th>\n",
              "      <th>education</th>\n",
              "      <th>currentSmoker</th>\n",
              "      <th>cigsPerDay</th>\n",
              "      <th>BPMeds</th>\n",
              "      <th>prevalentStroke</th>\n",
              "      <th>prevalentHyp</th>\n",
              "      <th>diabetes</th>\n",
              "      <th>totChol</th>\n",
              "      <th>sysBP</th>\n",
              "      <th>diaBP</th>\n",
              "      <th>BMI</th>\n",
              "      <th>heartRate</th>\n",
              "      <th>glucose</th>\n",
              "      <th>TenYearCHD</th>\n",
              "    </tr>\n",
              "  </thead>\n",
              "  <tbody>\n",
              "    <tr>\n",
              "      <th>male</th>\n",
              "      <td>1.000000</td>\n",
              "      <td>-0.028979</td>\n",
              "      <td>0.017352</td>\n",
              "      <td>0.197596</td>\n",
              "      <td>0.317930</td>\n",
              "      <td>-0.052506</td>\n",
              "      <td>-0.004546</td>\n",
              "      <td>0.005313</td>\n",
              "      <td>0.015708</td>\n",
              "      <td>-0.070322</td>\n",
              "      <td>-0.035989</td>\n",
              "      <td>0.057933</td>\n",
              "      <td>0.081672</td>\n",
              "      <td>-0.116620</td>\n",
              "      <td>0.006083</td>\n",
              "      <td>0.088428</td>\n",
              "    </tr>\n",
              "    <tr>\n",
              "      <th>age</th>\n",
              "      <td>-0.028979</td>\n",
              "      <td>1.000000</td>\n",
              "      <td>-0.165883</td>\n",
              "      <td>-0.213748</td>\n",
              "      <td>-0.192791</td>\n",
              "      <td>0.122995</td>\n",
              "      <td>0.057655</td>\n",
              "      <td>0.307194</td>\n",
              "      <td>0.101258</td>\n",
              "      <td>0.262131</td>\n",
              "      <td>0.394302</td>\n",
              "      <td>0.206104</td>\n",
              "      <td>0.135800</td>\n",
              "      <td>-0.012823</td>\n",
              "      <td>0.122256</td>\n",
              "      <td>0.225256</td>\n",
              "    </tr>\n",
              "    <tr>\n",
              "      <th>education</th>\n",
              "      <td>0.017352</td>\n",
              "      <td>-0.165883</td>\n",
              "      <td>1.000000</td>\n",
              "      <td>0.018532</td>\n",
              "      <td>0.008085</td>\n",
              "      <td>-0.010815</td>\n",
              "      <td>-0.035112</td>\n",
              "      <td>-0.081970</td>\n",
              "      <td>-0.038680</td>\n",
              "      <td>-0.023115</td>\n",
              "      <td>-0.129631</td>\n",
              "      <td>-0.062316</td>\n",
              "      <td>-0.137504</td>\n",
              "      <td>-0.054206</td>\n",
              "      <td>-0.035721</td>\n",
              "      <td>-0.054059</td>\n",
              "    </tr>\n",
              "    <tr>\n",
              "      <th>currentSmoker</th>\n",
              "      <td>0.197596</td>\n",
              "      <td>-0.213748</td>\n",
              "      <td>0.018532</td>\n",
              "      <td>1.000000</td>\n",
              "      <td>0.769690</td>\n",
              "      <td>-0.048938</td>\n",
              "      <td>-0.032988</td>\n",
              "      <td>-0.103260</td>\n",
              "      <td>-0.044295</td>\n",
              "      <td>-0.046562</td>\n",
              "      <td>-0.130230</td>\n",
              "      <td>-0.107746</td>\n",
              "      <td>-0.167650</td>\n",
              "      <td>0.062356</td>\n",
              "      <td>-0.056826</td>\n",
              "      <td>0.019456</td>\n",
              "    </tr>\n",
              "    <tr>\n",
              "      <th>cigsPerDay</th>\n",
              "      <td>0.317930</td>\n",
              "      <td>-0.192791</td>\n",
              "      <td>0.008085</td>\n",
              "      <td>0.769690</td>\n",
              "      <td>1.000000</td>\n",
              "      <td>-0.046134</td>\n",
              "      <td>-0.032707</td>\n",
              "      <td>-0.066146</td>\n",
              "      <td>-0.037067</td>\n",
              "      <td>-0.026320</td>\n",
              "      <td>-0.088780</td>\n",
              "      <td>-0.056632</td>\n",
              "      <td>-0.092856</td>\n",
              "      <td>0.075157</td>\n",
              "      <td>-0.058960</td>\n",
              "      <td>0.057884</td>\n",
              "    </tr>\n",
              "    <tr>\n",
              "      <th>BPMeds</th>\n",
              "      <td>-0.052506</td>\n",
              "      <td>0.122995</td>\n",
              "      <td>-0.010815</td>\n",
              "      <td>-0.048938</td>\n",
              "      <td>-0.046134</td>\n",
              "      <td>1.000000</td>\n",
              "      <td>0.117365</td>\n",
              "      <td>0.261187</td>\n",
              "      <td>0.052047</td>\n",
              "      <td>0.080558</td>\n",
              "      <td>0.254219</td>\n",
              "      <td>0.194227</td>\n",
              "      <td>0.100668</td>\n",
              "      <td>0.015233</td>\n",
              "      <td>0.051176</td>\n",
              "      <td>0.087489</td>\n",
              "    </tr>\n",
              "    <tr>\n",
              "      <th>prevalentStroke</th>\n",
              "      <td>-0.004546</td>\n",
              "      <td>0.057655</td>\n",
              "      <td>-0.035112</td>\n",
              "      <td>-0.032988</td>\n",
              "      <td>-0.032707</td>\n",
              "      <td>0.117365</td>\n",
              "      <td>1.000000</td>\n",
              "      <td>0.074830</td>\n",
              "      <td>0.006949</td>\n",
              "      <td>0.000067</td>\n",
              "      <td>0.057009</td>\n",
              "      <td>0.045190</td>\n",
              "      <td>0.025891</td>\n",
              "      <td>-0.017676</td>\n",
              "      <td>0.018431</td>\n",
              "      <td>0.061810</td>\n",
              "    </tr>\n",
              "    <tr>\n",
              "      <th>prevalentHyp</th>\n",
              "      <td>0.005313</td>\n",
              "      <td>0.307194</td>\n",
              "      <td>-0.081970</td>\n",
              "      <td>-0.103260</td>\n",
              "      <td>-0.066146</td>\n",
              "      <td>0.261187</td>\n",
              "      <td>0.074830</td>\n",
              "      <td>1.000000</td>\n",
              "      <td>0.077808</td>\n",
              "      <td>0.163993</td>\n",
              "      <td>0.696755</td>\n",
              "      <td>0.615751</td>\n",
              "      <td>0.301318</td>\n",
              "      <td>0.147261</td>\n",
              "      <td>0.086834</td>\n",
              "      <td>0.177603</td>\n",
              "    </tr>\n",
              "    <tr>\n",
              "      <th>diabetes</th>\n",
              "      <td>0.015708</td>\n",
              "      <td>0.101258</td>\n",
              "      <td>-0.038680</td>\n",
              "      <td>-0.044295</td>\n",
              "      <td>-0.037067</td>\n",
              "      <td>0.052047</td>\n",
              "      <td>0.006949</td>\n",
              "      <td>0.077808</td>\n",
              "      <td>1.000000</td>\n",
              "      <td>0.040278</td>\n",
              "      <td>0.111283</td>\n",
              "      <td>0.050329</td>\n",
              "      <td>0.087036</td>\n",
              "      <td>0.048994</td>\n",
              "      <td>0.617627</td>\n",
              "      <td>0.097317</td>\n",
              "    </tr>\n",
              "    <tr>\n",
              "      <th>totChol</th>\n",
              "      <td>-0.070322</td>\n",
              "      <td>0.262131</td>\n",
              "      <td>-0.023115</td>\n",
              "      <td>-0.046562</td>\n",
              "      <td>-0.026320</td>\n",
              "      <td>0.080558</td>\n",
              "      <td>0.000067</td>\n",
              "      <td>0.163993</td>\n",
              "      <td>0.040278</td>\n",
              "      <td>1.000000</td>\n",
              "      <td>0.208908</td>\n",
              "      <td>0.165182</td>\n",
              "      <td>0.115767</td>\n",
              "      <td>0.091125</td>\n",
              "      <td>0.046408</td>\n",
              "      <td>0.082184</td>\n",
              "    </tr>\n",
              "    <tr>\n",
              "      <th>sysBP</th>\n",
              "      <td>-0.035989</td>\n",
              "      <td>0.394302</td>\n",
              "      <td>-0.129631</td>\n",
              "      <td>-0.130230</td>\n",
              "      <td>-0.088780</td>\n",
              "      <td>0.254219</td>\n",
              "      <td>0.057009</td>\n",
              "      <td>0.696755</td>\n",
              "      <td>0.111283</td>\n",
              "      <td>0.208908</td>\n",
              "      <td>1.000000</td>\n",
              "      <td>0.784002</td>\n",
              "      <td>0.326981</td>\n",
              "      <td>0.182246</td>\n",
              "      <td>0.140621</td>\n",
              "      <td>0.216429</td>\n",
              "    </tr>\n",
              "    <tr>\n",
              "      <th>diaBP</th>\n",
              "      <td>0.057933</td>\n",
              "      <td>0.206104</td>\n",
              "      <td>-0.062316</td>\n",
              "      <td>-0.107746</td>\n",
              "      <td>-0.056632</td>\n",
              "      <td>0.194227</td>\n",
              "      <td>0.045190</td>\n",
              "      <td>0.615751</td>\n",
              "      <td>0.050329</td>\n",
              "      <td>0.165182</td>\n",
              "      <td>0.784002</td>\n",
              "      <td>1.000000</td>\n",
              "      <td>0.377588</td>\n",
              "      <td>0.181255</td>\n",
              "      <td>0.061231</td>\n",
              "      <td>0.145299</td>\n",
              "    </tr>\n",
              "    <tr>\n",
              "      <th>BMI</th>\n",
              "      <td>0.081672</td>\n",
              "      <td>0.135800</td>\n",
              "      <td>-0.137504</td>\n",
              "      <td>-0.167650</td>\n",
              "      <td>-0.092856</td>\n",
              "      <td>0.100668</td>\n",
              "      <td>0.025891</td>\n",
              "      <td>0.301318</td>\n",
              "      <td>0.087036</td>\n",
              "      <td>0.115767</td>\n",
              "      <td>0.326981</td>\n",
              "      <td>0.377588</td>\n",
              "      <td>1.000000</td>\n",
              "      <td>0.067678</td>\n",
              "      <td>0.087377</td>\n",
              "      <td>0.075192</td>\n",
              "    </tr>\n",
              "    <tr>\n",
              "      <th>heartRate</th>\n",
              "      <td>-0.116620</td>\n",
              "      <td>-0.012823</td>\n",
              "      <td>-0.054206</td>\n",
              "      <td>0.062356</td>\n",
              "      <td>0.075157</td>\n",
              "      <td>0.015233</td>\n",
              "      <td>-0.017676</td>\n",
              "      <td>0.147261</td>\n",
              "      <td>0.048994</td>\n",
              "      <td>0.091125</td>\n",
              "      <td>0.182246</td>\n",
              "      <td>0.181255</td>\n",
              "      <td>0.067678</td>\n",
              "      <td>1.000000</td>\n",
              "      <td>0.094500</td>\n",
              "      <td>0.022913</td>\n",
              "    </tr>\n",
              "    <tr>\n",
              "      <th>glucose</th>\n",
              "      <td>0.006083</td>\n",
              "      <td>0.122256</td>\n",
              "      <td>-0.035721</td>\n",
              "      <td>-0.056826</td>\n",
              "      <td>-0.058960</td>\n",
              "      <td>0.051176</td>\n",
              "      <td>0.018431</td>\n",
              "      <td>0.086834</td>\n",
              "      <td>0.617627</td>\n",
              "      <td>0.046408</td>\n",
              "      <td>0.140621</td>\n",
              "      <td>0.061231</td>\n",
              "      <td>0.087377</td>\n",
              "      <td>0.094500</td>\n",
              "      <td>1.000000</td>\n",
              "      <td>0.125544</td>\n",
              "    </tr>\n",
              "    <tr>\n",
              "      <th>TenYearCHD</th>\n",
              "      <td>0.088428</td>\n",
              "      <td>0.225256</td>\n",
              "      <td>-0.054059</td>\n",
              "      <td>0.019456</td>\n",
              "      <td>0.057884</td>\n",
              "      <td>0.087489</td>\n",
              "      <td>0.061810</td>\n",
              "      <td>0.177603</td>\n",
              "      <td>0.097317</td>\n",
              "      <td>0.082184</td>\n",
              "      <td>0.216429</td>\n",
              "      <td>0.145299</td>\n",
              "      <td>0.075192</td>\n",
              "      <td>0.022913</td>\n",
              "      <td>0.125544</td>\n",
              "      <td>1.000000</td>\n",
              "    </tr>\n",
              "  </tbody>\n",
              "</table>\n",
              "</div>\n",
              "      <button class=\"colab-df-convert\" onclick=\"convertToInteractive('df-a45e1b81-a7e3-41fd-ba53-ad67e6229c5b')\"\n",
              "              title=\"Convert this dataframe to an interactive table.\"\n",
              "              style=\"display:none;\">\n",
              "\n",
              "  <svg xmlns=\"http://www.w3.org/2000/svg\" height=\"24px\"viewBox=\"0 0 24 24\"\n",
              "       width=\"24px\">\n",
              "    <path d=\"M0 0h24v24H0V0z\" fill=\"none\"/>\n",
              "    <path d=\"M18.56 5.44l.94 2.06.94-2.06 2.06-.94-2.06-.94-.94-2.06-.94 2.06-2.06.94zm-11 1L8.5 8.5l.94-2.06 2.06-.94-2.06-.94L8.5 2.5l-.94 2.06-2.06.94zm10 10l.94 2.06.94-2.06 2.06-.94-2.06-.94-.94-2.06-.94 2.06-2.06.94z\"/><path d=\"M17.41 7.96l-1.37-1.37c-.4-.4-.92-.59-1.43-.59-.52 0-1.04.2-1.43.59L10.3 9.45l-7.72 7.72c-.78.78-.78 2.05 0 2.83L4 21.41c.39.39.9.59 1.41.59.51 0 1.02-.2 1.41-.59l7.78-7.78 2.81-2.81c.8-.78.8-2.07 0-2.86zM5.41 20L4 18.59l7.72-7.72 1.47 1.35L5.41 20z\"/>\n",
              "  </svg>\n",
              "      </button>\n",
              "\n",
              "\n",
              "\n",
              "    <div id=\"df-1631c1f1-609f-45ca-97ca-cc62cd39fc94\">\n",
              "      <button class=\"colab-df-quickchart\" onclick=\"quickchart('df-1631c1f1-609f-45ca-97ca-cc62cd39fc94')\"\n",
              "              title=\"Suggest charts.\"\n",
              "              style=\"display:none;\">\n",
              "\n",
              "<svg xmlns=\"http://www.w3.org/2000/svg\" height=\"24px\"viewBox=\"0 0 24 24\"\n",
              "     width=\"24px\">\n",
              "    <g>\n",
              "        <path d=\"M19 3H5c-1.1 0-2 .9-2 2v14c0 1.1.9 2 2 2h14c1.1 0 2-.9 2-2V5c0-1.1-.9-2-2-2zM9 17H7v-7h2v7zm4 0h-2V7h2v10zm4 0h-2v-4h2v4z\"/>\n",
              "    </g>\n",
              "</svg>\n",
              "      </button>\n",
              "    </div>\n",
              "\n",
              "<style>\n",
              "  .colab-df-quickchart {\n",
              "    background-color: #E8F0FE;\n",
              "    border: none;\n",
              "    border-radius: 50%;\n",
              "    cursor: pointer;\n",
              "    display: none;\n",
              "    fill: #1967D2;\n",
              "    height: 32px;\n",
              "    padding: 0 0 0 0;\n",
              "    width: 32px;\n",
              "  }\n",
              "\n",
              "  .colab-df-quickchart:hover {\n",
              "    background-color: #E2EBFA;\n",
              "    box-shadow: 0px 1px 2px rgba(60, 64, 67, 0.3), 0px 1px 3px 1px rgba(60, 64, 67, 0.15);\n",
              "    fill: #174EA6;\n",
              "  }\n",
              "\n",
              "  [theme=dark] .colab-df-quickchart {\n",
              "    background-color: #3B4455;\n",
              "    fill: #D2E3FC;\n",
              "  }\n",
              "\n",
              "  [theme=dark] .colab-df-quickchart:hover {\n",
              "    background-color: #434B5C;\n",
              "    box-shadow: 0px 1px 3px 1px rgba(0, 0, 0, 0.15);\n",
              "    filter: drop-shadow(0px 1px 2px rgba(0, 0, 0, 0.3));\n",
              "    fill: #FFFFFF;\n",
              "  }\n",
              "</style>\n",
              "\n",
              "    <script>\n",
              "      async function quickchart(key) {\n",
              "        const containerElement = document.querySelector('#' + key);\n",
              "        const charts = await google.colab.kernel.invokeFunction(\n",
              "            'suggestCharts', [key], {});\n",
              "      }\n",
              "    </script>\n",
              "\n",
              "      <script>\n",
              "\n",
              "function displayQuickchartButton(domScope) {\n",
              "  let quickchartButtonEl =\n",
              "    domScope.querySelector('#df-1631c1f1-609f-45ca-97ca-cc62cd39fc94 button.colab-df-quickchart');\n",
              "  quickchartButtonEl.style.display =\n",
              "    google.colab.kernel.accessAllowed ? 'block' : 'none';\n",
              "}\n",
              "\n",
              "        displayQuickchartButton(document);\n",
              "      </script>\n",
              "      <style>\n",
              "    .colab-df-container {\n",
              "      display:flex;\n",
              "      flex-wrap:wrap;\n",
              "      gap: 12px;\n",
              "    }\n",
              "\n",
              "    .colab-df-convert {\n",
              "      background-color: #E8F0FE;\n",
              "      border: none;\n",
              "      border-radius: 50%;\n",
              "      cursor: pointer;\n",
              "      display: none;\n",
              "      fill: #1967D2;\n",
              "      height: 32px;\n",
              "      padding: 0 0 0 0;\n",
              "      width: 32px;\n",
              "    }\n",
              "\n",
              "    .colab-df-convert:hover {\n",
              "      background-color: #E2EBFA;\n",
              "      box-shadow: 0px 1px 2px rgba(60, 64, 67, 0.3), 0px 1px 3px 1px rgba(60, 64, 67, 0.15);\n",
              "      fill: #174EA6;\n",
              "    }\n",
              "\n",
              "    [theme=dark] .colab-df-convert {\n",
              "      background-color: #3B4455;\n",
              "      fill: #D2E3FC;\n",
              "    }\n",
              "\n",
              "    [theme=dark] .colab-df-convert:hover {\n",
              "      background-color: #434B5C;\n",
              "      box-shadow: 0px 1px 3px 1px rgba(0, 0, 0, 0.15);\n",
              "      filter: drop-shadow(0px 1px 2px rgba(0, 0, 0, 0.3));\n",
              "      fill: #FFFFFF;\n",
              "    }\n",
              "  </style>\n",
              "\n",
              "      <script>\n",
              "        const buttonEl =\n",
              "          document.querySelector('#df-a45e1b81-a7e3-41fd-ba53-ad67e6229c5b button.colab-df-convert');\n",
              "        buttonEl.style.display =\n",
              "          google.colab.kernel.accessAllowed ? 'block' : 'none';\n",
              "\n",
              "        async function convertToInteractive(key) {\n",
              "          const element = document.querySelector('#df-a45e1b81-a7e3-41fd-ba53-ad67e6229c5b');\n",
              "          const dataTable =\n",
              "            await google.colab.kernel.invokeFunction('convertToInteractive',\n",
              "                                                     [key], {});\n",
              "          if (!dataTable) return;\n",
              "\n",
              "          const docLinkHtml = 'Like what you see? Visit the ' +\n",
              "            '<a target=\"_blank\" href=https://colab.research.google.com/notebooks/data_table.ipynb>data table notebook</a>'\n",
              "            + ' to learn more about interactive tables.';\n",
              "          element.innerHTML = '';\n",
              "          dataTable['output_type'] = 'display_data';\n",
              "          await google.colab.output.renderOutput(dataTable, element);\n",
              "          const docLink = document.createElement('div');\n",
              "          docLink.innerHTML = docLinkHtml;\n",
              "          element.appendChild(docLink);\n",
              "        }\n",
              "      </script>\n",
              "    </div>\n",
              "  </div>\n"
            ]
          },
          "metadata": {},
          "execution_count": 123
        }
      ]
    },
    {
      "cell_type": "markdown",
      "source": [
        "coulmns -  glucose,sysBp,diaBp,currentSomker correlation values is >50% positively correlated to each other. so dropping the values from the data set. There is a multi collinearity between the independent variables."
      ],
      "metadata": {
        "id": "Wjk0j6K9kUeo"
      }
    },
    {
      "cell_type": "code",
      "source": [
        "Log_dataset.columns"
      ],
      "metadata": {
        "colab": {
          "base_uri": "https://localhost:8080/"
        },
        "id": "mypdzS0Dk99S",
        "outputId": "460a14a1-a9ee-4cd5-b84c-836fb68bfc4d"
      },
      "execution_count": null,
      "outputs": [
        {
          "output_type": "execute_result",
          "data": {
            "text/plain": [
              "Index(['male', 'age', 'education', 'currentSmoker', 'cigsPerDay', 'BPMeds',\n",
              "       'prevalentStroke', 'prevalentHyp', 'diabetes', 'totChol', 'sysBP',\n",
              "       'diaBP', 'BMI', 'heartRate', 'glucose', 'TenYearCHD'],\n",
              "      dtype='object')"
            ]
          },
          "metadata": {},
          "execution_count": 124
        }
      ]
    },
    {
      "cell_type": "code",
      "source": [
        "new_log_datase=Log_dataset.drop(['currentSmoker','sysBP','diaBP','glucose'],axis=1)"
      ],
      "metadata": {
        "id": "KmBzTTa2juj5"
      },
      "execution_count": null,
      "outputs": []
    },
    {
      "cell_type": "code",
      "source": [
        "new_log_datase.shape"
      ],
      "metadata": {
        "colab": {
          "base_uri": "https://localhost:8080/"
        },
        "id": "vhPvEjkslJtR",
        "outputId": "5e01305a-7733-4707-d644-287614f227ae"
      },
      "execution_count": null,
      "outputs": [
        {
          "output_type": "execute_result",
          "data": {
            "text/plain": [
              "(4238, 12)"
            ]
          },
          "metadata": {},
          "execution_count": 126
        }
      ]
    },
    {
      "cell_type": "code",
      "source": [
        "new_log_datase.info()"
      ],
      "metadata": {
        "colab": {
          "base_uri": "https://localhost:8080/"
        },
        "id": "ic56HxAllNtb",
        "outputId": "e72318fe-b3ec-47da-f560-54b44c341420"
      },
      "execution_count": null,
      "outputs": [
        {
          "output_type": "stream",
          "name": "stdout",
          "text": [
            "<class 'pandas.core.frame.DataFrame'>\n",
            "RangeIndex: 4238 entries, 0 to 4237\n",
            "Data columns (total 12 columns):\n",
            " #   Column           Non-Null Count  Dtype  \n",
            "---  ------           --------------  -----  \n",
            " 0   male             4238 non-null   int64  \n",
            " 1   age              4238 non-null   int64  \n",
            " 2   education        4133 non-null   float64\n",
            " 3   cigsPerDay       4209 non-null   float64\n",
            " 4   BPMeds           4185 non-null   float64\n",
            " 5   prevalentStroke  4238 non-null   int64  \n",
            " 6   prevalentHyp     4238 non-null   int64  \n",
            " 7   diabetes         4238 non-null   int64  \n",
            " 8   totChol          4188 non-null   float64\n",
            " 9   BMI              4219 non-null   float64\n",
            " 10  heartRate        4237 non-null   float64\n",
            " 11  TenYearCHD       4238 non-null   int64  \n",
            "dtypes: float64(6), int64(6)\n",
            "memory usage: 397.4 KB\n"
          ]
        }
      ]
    },
    {
      "cell_type": "code",
      "source": [
        "new_log_datase=new_log_datase.dropna()"
      ],
      "metadata": {
        "id": "bg_r-y9hmSH0"
      },
      "execution_count": null,
      "outputs": []
    },
    {
      "cell_type": "code",
      "source": [
        "# splitting the dataset into features and target variables\n",
        "Log_features= new_log_datase.drop('TenYearCHD',axis=1)\n",
        "Log_target=new_log_datase['TenYearCHD']"
      ],
      "metadata": {
        "id": "qXQeXLqtlRpo"
      },
      "execution_count": null,
      "outputs": []
    },
    {
      "cell_type": "code",
      "source": [
        "# scaling the data by removing the mean or centering the mean and making standard deviation to unit value\n",
        "scaler=StandardScaler()\n",
        "Log_features=scaler.fit_transform(Log_features)"
      ],
      "metadata": {
        "id": "CpTxJlWaljz2"
      },
      "execution_count": null,
      "outputs": []
    },
    {
      "cell_type": "code",
      "source": [
        "X_train,X_test,y_train,y_test=train_test_split(Log_features,Log_target,test_size=0.25)"
      ],
      "metadata": {
        "id": "8Z4Vuu15lrKD"
      },
      "execution_count": null,
      "outputs": []
    },
    {
      "cell_type": "code",
      "source": [
        "y_train.shape"
      ],
      "metadata": {
        "colab": {
          "base_uri": "https://localhost:8080/"
        },
        "id": "9FapdvPgmaYt",
        "outputId": "9dbd554a-ffa2-4c51-b2fc-5e4d1baf6b68"
      },
      "execution_count": null,
      "outputs": [
        {
          "output_type": "execute_result",
          "data": {
            "text/plain": [
              "(2990,)"
            ]
          },
          "metadata": {},
          "execution_count": 132
        }
      ]
    },
    {
      "cell_type": "code",
      "source": [
        "Log_model=LogisticRegression()\n",
        "Log_model.fit(X_train,y_train)"
      ],
      "metadata": {
        "colab": {
          "base_uri": "https://localhost:8080/",
          "height": 74
        },
        "id": "eQ6Xcaq7mENx",
        "outputId": "90c5e8e5-32f6-4914-ba6b-c84c2e144e46"
      },
      "execution_count": null,
      "outputs": [
        {
          "output_type": "execute_result",
          "data": {
            "text/plain": [
              "LogisticRegression()"
            ],
            "text/html": [
              "<style>#sk-container-id-4 {color: black;background-color: white;}#sk-container-id-4 pre{padding: 0;}#sk-container-id-4 div.sk-toggleable {background-color: white;}#sk-container-id-4 label.sk-toggleable__label {cursor: pointer;display: block;width: 100%;margin-bottom: 0;padding: 0.3em;box-sizing: border-box;text-align: center;}#sk-container-id-4 label.sk-toggleable__label-arrow:before {content: \"▸\";float: left;margin-right: 0.25em;color: #696969;}#sk-container-id-4 label.sk-toggleable__label-arrow:hover:before {color: black;}#sk-container-id-4 div.sk-estimator:hover label.sk-toggleable__label-arrow:before {color: black;}#sk-container-id-4 div.sk-toggleable__content {max-height: 0;max-width: 0;overflow: hidden;text-align: left;background-color: #f0f8ff;}#sk-container-id-4 div.sk-toggleable__content pre {margin: 0.2em;color: black;border-radius: 0.25em;background-color: #f0f8ff;}#sk-container-id-4 input.sk-toggleable__control:checked~div.sk-toggleable__content {max-height: 200px;max-width: 100%;overflow: auto;}#sk-container-id-4 input.sk-toggleable__control:checked~label.sk-toggleable__label-arrow:before {content: \"▾\";}#sk-container-id-4 div.sk-estimator input.sk-toggleable__control:checked~label.sk-toggleable__label {background-color: #d4ebff;}#sk-container-id-4 div.sk-label input.sk-toggleable__control:checked~label.sk-toggleable__label {background-color: #d4ebff;}#sk-container-id-4 input.sk-hidden--visually {border: 0;clip: rect(1px 1px 1px 1px);clip: rect(1px, 1px, 1px, 1px);height: 1px;margin: -1px;overflow: hidden;padding: 0;position: absolute;width: 1px;}#sk-container-id-4 div.sk-estimator {font-family: monospace;background-color: #f0f8ff;border: 1px dotted black;border-radius: 0.25em;box-sizing: border-box;margin-bottom: 0.5em;}#sk-container-id-4 div.sk-estimator:hover {background-color: #d4ebff;}#sk-container-id-4 div.sk-parallel-item::after {content: \"\";width: 100%;border-bottom: 1px solid gray;flex-grow: 1;}#sk-container-id-4 div.sk-label:hover label.sk-toggleable__label {background-color: #d4ebff;}#sk-container-id-4 div.sk-serial::before {content: \"\";position: absolute;border-left: 1px solid gray;box-sizing: border-box;top: 0;bottom: 0;left: 50%;z-index: 0;}#sk-container-id-4 div.sk-serial {display: flex;flex-direction: column;align-items: center;background-color: white;padding-right: 0.2em;padding-left: 0.2em;position: relative;}#sk-container-id-4 div.sk-item {position: relative;z-index: 1;}#sk-container-id-4 div.sk-parallel {display: flex;align-items: stretch;justify-content: center;background-color: white;position: relative;}#sk-container-id-4 div.sk-item::before, #sk-container-id-4 div.sk-parallel-item::before {content: \"\";position: absolute;border-left: 1px solid gray;box-sizing: border-box;top: 0;bottom: 0;left: 50%;z-index: -1;}#sk-container-id-4 div.sk-parallel-item {display: flex;flex-direction: column;z-index: 1;position: relative;background-color: white;}#sk-container-id-4 div.sk-parallel-item:first-child::after {align-self: flex-end;width: 50%;}#sk-container-id-4 div.sk-parallel-item:last-child::after {align-self: flex-start;width: 50%;}#sk-container-id-4 div.sk-parallel-item:only-child::after {width: 0;}#sk-container-id-4 div.sk-dashed-wrapped {border: 1px dashed gray;margin: 0 0.4em 0.5em 0.4em;box-sizing: border-box;padding-bottom: 0.4em;background-color: white;}#sk-container-id-4 div.sk-label label {font-family: monospace;font-weight: bold;display: inline-block;line-height: 1.2em;}#sk-container-id-4 div.sk-label-container {text-align: center;}#sk-container-id-4 div.sk-container {/* jupyter's `normalize.less` sets `[hidden] { display: none; }` but bootstrap.min.css set `[hidden] { display: none !important; }` so we also need the `!important` here to be able to override the default hidden behavior on the sphinx rendered scikit-learn.org. See: https://github.com/scikit-learn/scikit-learn/issues/21755 */display: inline-block !important;position: relative;}#sk-container-id-4 div.sk-text-repr-fallback {display: none;}</style><div id=\"sk-container-id-4\" class=\"sk-top-container\"><div class=\"sk-text-repr-fallback\"><pre>LogisticRegression()</pre><b>In a Jupyter environment, please rerun this cell to show the HTML representation or trust the notebook. <br />On GitHub, the HTML representation is unable to render, please try loading this page with nbviewer.org.</b></div><div class=\"sk-container\" hidden><div class=\"sk-item\"><div class=\"sk-estimator sk-toggleable\"><input class=\"sk-toggleable__control sk-hidden--visually\" id=\"sk-estimator-id-4\" type=\"checkbox\" checked><label for=\"sk-estimator-id-4\" class=\"sk-toggleable__label sk-toggleable__label-arrow\">LogisticRegression</label><div class=\"sk-toggleable__content\"><pre>LogisticRegression()</pre></div></div></div></div></div>"
            ]
          },
          "metadata": {},
          "execution_count": 133
        }
      ]
    },
    {
      "cell_type": "code",
      "source": [
        "Log_model.score(X_test,y_test)"
      ],
      "metadata": {
        "colab": {
          "base_uri": "https://localhost:8080/"
        },
        "id": "mlKcwekimIFD",
        "outputId": "c8a9132b-dc78-4475-b479-32d65045715b"
      },
      "execution_count": null,
      "outputs": [
        {
          "output_type": "execute_result",
          "data": {
            "text/plain": [
              "0.8415245737211635"
            ]
          },
          "metadata": {},
          "execution_count": 134
        }
      ]
    },
    {
      "cell_type": "code",
      "source": [
        "Log_model.score(X_train,y_train)"
      ],
      "metadata": {
        "colab": {
          "base_uri": "https://localhost:8080/"
        },
        "id": "MAQwCMurmxin",
        "outputId": "d60cbdb6-17e5-4a74-ae5b-57c393c7a1fc"
      },
      "execution_count": null,
      "outputs": [
        {
          "output_type": "execute_result",
          "data": {
            "text/plain": [
              "0.8568561872909699"
            ]
          },
          "metadata": {},
          "execution_count": 135
        }
      ]
    },
    {
      "cell_type": "code",
      "source": [
        "Log_predict=Log_model.predict(X_test)"
      ],
      "metadata": {
        "id": "4ZUrkJYXm1Ss"
      },
      "execution_count": null,
      "outputs": []
    },
    {
      "cell_type": "code",
      "source": [
        "print(classification_report(Log_predict,y_test,target_names=['class0','class1']))"
      ],
      "metadata": {
        "colab": {
          "base_uri": "https://localhost:8080/"
        },
        "id": "a4f0-VM_nXCz",
        "outputId": "e6373dc4-02a4-4031-af08-391d49985f2d"
      },
      "execution_count": null,
      "outputs": [
        {
          "output_type": "stream",
          "name": "stdout",
          "text": [
            "              precision    recall  f1-score   support\n",
            "\n",
            "      class0       1.00      0.84      0.91       989\n",
            "      class1       0.04      0.75      0.07         8\n",
            "\n",
            "    accuracy                           0.84       997\n",
            "   macro avg       0.52      0.80      0.49       997\n",
            "weighted avg       0.99      0.84      0.91       997\n",
            "\n"
          ]
        }
      ]
    },
    {
      "cell_type": "code",
      "source": [
        "cm=confusion_matrix(Log_predict,y_test)"
      ],
      "metadata": {
        "id": "1q4zqAh4vfgr"
      },
      "execution_count": null,
      "outputs": []
    },
    {
      "cell_type": "code",
      "source": [
        "print('confusion matrix:')\n",
        "print('',confusion_matrix(Log_predict,y_test))\n",
        "print('\\033[1m Confusion matrix for binary classification \\033[0;0m')\n",
        "print('  ',np.array(['10 years risk','No risk']))\n",
        "print(np.matrix([['True Positive','False Positive]','[10 years risk]'],['Flase Negative', 'True Negative]','[No risk]']]),end=' ')\n",
        "#print(np.matrix([['10 years risk'],['No risk']]))"
      ],
      "metadata": {
        "colab": {
          "base_uri": "https://localhost:8080/"
        },
        "id": "cC1bTzujnw2n",
        "outputId": "e46a17b0-23c5-4662-b51d-d92a48614a59"
      },
      "execution_count": null,
      "outputs": [
        {
          "output_type": "stream",
          "name": "stdout",
          "text": [
            "confusion matrix:\n",
            " [[833 156]\n",
            " [  2   6]]\n",
            "\u001b[1m Confusion matrix for binary classification \u001b[0;0m\n",
            "   ['10 years risk' 'No risk']\n",
            "[['True Positive' 'False Positive]' '[10 years risk]']\n",
            " ['Flase Negative' 'True Negative]' '[No risk]']] "
          ]
        }
      ]
    },
    {
      "cell_type": "markdown",
      "source": [
        "**Type 1 error- false positives**\n",
        "\n",
        "**Type 2 error-false negatives**"
      ],
      "metadata": {
        "id": "zmfDKAOM49A6"
      }
    },
    {
      "cell_type": "code",
      "source": [
        "sns.heatmap(cm,annot=True,fmt='g',cmap='OrRd',xticklabels=['10 years risk','No risk'],yticklabels=['10 years risk','No risk'])\n",
        "plt.ylabel('Prediction',fontsize=13)\n",
        "plt.xlabel('Actual',fontsize=13)\n",
        "plt.title('Confusion Matrix',fontsize=17)\n",
        "plt.show()"
      ],
      "metadata": {
        "colab": {
          "base_uri": "https://localhost:8080/",
          "height": 481
        },
        "id": "ysivUpl4oq-g",
        "outputId": "fadf586b-7daf-4c27-d721-775e2856a711"
      },
      "execution_count": null,
      "outputs": [
        {
          "output_type": "display_data",
          "data": {
            "text/plain": [
              "<Figure size 640x480 with 2 Axes>"
            ],
            "image/png": "[encoded data removed]"
          },
          "metadata": {}
        }
      ]
    },
    {
      "cell_type": "markdown",
      "source": [
        "**Recall:** How often the model predicted postive events correctly\n",
        "\n",
        "                   Recall = TP/TP+FN\n",
        "\n",
        "**Precision** How often the model predicted the event to be positive and it turned out to be true.\n",
        "\n",
        "                  Precision = TP/TP+FP\n",
        "\n",
        "**Accuracy** How often the model predicted correctly. The ratio of the true cases to all the cases.\n",
        "\n",
        "                 Accuracy = TP +TN/(TP+TN+FP+FN)\n",
        "\n",
        "\n",
        "**f1 score**\n",
        "\n",
        "\n",
        "                f1 score = 2*((precision*Recall)/(precision+Recall))"
      ],
      "metadata": {
        "id": "0sGfHBuY5xvv"
      }
    },
    {
      "cell_type": "code",
      "source": [
        "print(\"Recall = \",end=' ')\n",
        "Recall= 833/(833+2)\n",
        "print(round(Recall*100,2))"
      ],
      "metadata": {
        "colab": {
          "base_uri": "https://localhost:8080/"
        },
        "id": "NopHIN1E4ARz",
        "outputId": "fc749d2f-f7ae-4afd-81c0-5da7fc3c57c1"
      },
      "execution_count": null,
      "outputs": [
        {
          "output_type": "stream",
          "name": "stdout",
          "text": [
            "Recall =  99.76\n"
          ]
        }
      ]
    },
    {
      "cell_type": "code",
      "source": [
        "print(\"Precision = \",end=' ')\n",
        "precision=833/(833+156)\n",
        "print(round(precision*100,2))"
      ],
      "metadata": {
        "colab": {
          "base_uri": "https://localhost:8080/"
        },
        "id": "fNZCr-wR6PyR",
        "outputId": "3177efe0-7942-4e82-8c8e-4670114a1a68"
      },
      "execution_count": null,
      "outputs": [
        {
          "output_type": "stream",
          "name": "stdout",
          "text": [
            "Precision =  84.23\n"
          ]
        }
      ]
    },
    {
      "cell_type": "code",
      "source": [
        "print(\"Accuracy = \",end=' ')\n",
        "accuracy=(833+6)/(833+156+2+6)\n",
        "print(round(accuracy*100,2))"
      ],
      "metadata": {
        "colab": {
          "base_uri": "https://localhost:8080/"
        },
        "id": "y5lzCB4i6-IZ",
        "outputId": "d8cc0fb8-0064-4387-a59b-32a006bd590c"
      },
      "execution_count": null,
      "outputs": [
        {
          "output_type": "stream",
          "name": "stdout",
          "text": [
            "Accuracy =  84.15\n"
          ]
        }
      ]
    },
    {
      "cell_type": "code",
      "source": [
        "print(\"f1 score =\",end=' ')\n",
        "f1score =2*((precision*Recall)/(precision+Recall))\n",
        "print(round(f1score*100,2))"
      ],
      "metadata": {
        "colab": {
          "base_uri": "https://localhost:8080/"
        },
        "id": "sh93JIJU7-CY",
        "outputId": "8497c6dd-1fb3-4fff-b406-8495c9743f14"
      },
      "execution_count": null,
      "outputs": [
        {
          "output_type": "stream",
          "name": "stdout",
          "text": [
            "f1 score = 91.34\n"
          ]
        }
      ]
    },
    {
      "cell_type": "markdown",
      "source": [
        "**ROC: Receiver Operating Characteristics**\n",
        "\n",
        "A graph that shows how well a classification model performs. It is a probability curve that plots the TPR against FPR at various threshold values"
      ],
      "metadata": {
        "id": "wOPRQKlpB6rg"
      }
    },
    {
      "cell_type": "code",
      "source": [
        "from sklearn import metrics\n",
        "y_pred_proba = Log_model.predict_proba(X_test)[::,1]\n",
        "fpr, tpr, _ = metrics.roc_curve(y_test,  y_pred_proba)\n",
        "\n",
        "#create ROC curve\n",
        "plt.plot(fpr,tpr)\n",
        "plt.ylabel('True Positive Rate')\n",
        "plt.xlabel('False Positive Rate')\n",
        "plt.show()"
      ],
      "metadata": {
        "colab": {
          "base_uri": "https://localhost:8080/",
          "height": 449
        },
        "id": "DUAASVs79JtM",
        "outputId": "11153259-4c42-4a65-c473-ed303bc98b7d"
      },
      "execution_count": null,
      "outputs": [
        {
          "output_type": "display_data",
          "data": {
            "text/plain": [
              "<Figure size 640x480 with 1 Axes>"
            ],
            "image/png": "[encoded data removed]"
          },
          "metadata": {}
        }
      ]
    },
    {
      "cell_type": "markdown",
      "source": [
        "** Area Under Curve:**\n",
        "The Area Under the Curve (AUC) is the measure of the ability of a binary classifier to distinguish between classes and is used as a summary of the ROC curve.\n",
        "\n",
        "**Note:**The higher the AUC, the better the model’s performance at distinguishing between the positive and negative classes."
      ],
      "metadata": {
        "id": "lwUHfwxoEhLc"
      }
    },
    {
      "cell_type": "code",
      "source": [
        "y_pred_proba = Log_model.predict_proba(X_test)[::,1]\n",
        "fpr, tpr, _ = metrics.roc_curve(y_test,  y_pred_proba)\n",
        "auc = metrics.roc_auc_score(y_test, y_pred_proba)\n",
        "\n",
        "#create ROC curve\n",
        "plt.plot(fpr,tpr,label=\"AUC=\"+str(auc))\n",
        "plt.ylabel('True Positive Rate')\n",
        "plt.xlabel('False Positive Rate')\n",
        "plt.legend(loc=4)\n",
        "plt.show()"
      ],
      "metadata": {
        "colab": {
          "base_uri": "https://localhost:8080/",
          "height": 449
        },
        "id": "wriqfNCG_OR6",
        "outputId": "997e14e1-6ae0-42b3-8a2f-7850190ed731"
      },
      "execution_count": null,
      "outputs": [
        {
          "output_type": "display_data",
          "data": {
            "text/plain": [
              "<Figure size 640x480 with 1 Axes>"
            ],
            "image/png": "[encoded data removed]"
          },
          "metadata": {}
        }
      ]
    },
    {
      "cell_type": "code",
      "source": [],
      "metadata": {
        "id": "fmykP1va_nSN"
      },
      "execution_count": null,
      "outputs": []
    }
  ]
}